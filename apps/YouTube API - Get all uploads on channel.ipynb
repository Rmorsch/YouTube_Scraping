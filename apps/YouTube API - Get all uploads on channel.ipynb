{
 "cells": [
  {
   "metadata": {
    "ExecuteTime": {
     "end_time": "2025-07-04T17:45:15.251759Z",
     "start_time": "2025-07-04T17:45:15.237Z"
    }
   },
   "cell_type": "code",
   "source": [
    "import os, sys, time, math, itertools, json\n",
    "from dotenv import load_dotenv\n",
    "load_dotenv()\n",
    "from pathlib import Path\n",
    "import pandas as pd\n",
    "from googleapiclient.discovery import build\n",
    "from tqdm import tqdm   # progress bar\n",
    "\n",
    "from sqlalchemy import create_engine\n",
    "from urllib.parse import quote_plus  # safely URL-encode the driver name"
   ],
   "id": "35a80a92d92fe2a7",
   "outputs": [],
   "execution_count": 17
  },
  {
   "metadata": {
    "ExecuteTime": {
     "end_time": "2025-07-04T17:45:15.329785Z",
     "start_time": "2025-07-04T17:45:15.324361Z"
    }
   },
   "cell_type": "code",
   "source": [
    "API_KEY = os.getenv(\"YOUTUBE_API_KEY\")          # export beforehand or load via dotenv\n",
    "if not API_KEY:\n",
    "    raise SystemExit(\"Set YOUTUBE_API_KEY environment variable first!\")"
   ],
   "id": "4363f0c04d5152d0",
   "outputs": [],
   "execution_count": 18
  },
  {
   "metadata": {
    "ExecuteTime": {
     "end_time": "2025-07-04T17:45:15.367422Z",
     "start_time": "2025-07-04T17:45:15.358660Z"
    }
   },
   "cell_type": "code",
   "source": [
    "def chunks(seq, n):\n",
    "    \"\"\"Yield successive n-sized chunks from seq (used for video-id batching).\"\"\"\n",
    "    for i in range(0, len(seq), n):\n",
    "        yield seq[i:i + n]"
   ],
   "id": "65886f974c2a75d3",
   "outputs": [],
   "execution_count": 19
  },
  {
   "metadata": {
    "ExecuteTime": {
     "end_time": "2025-07-04T17:45:15.394231Z",
     "start_time": "2025-07-04T17:45:15.384495Z"
    }
   },
   "cell_type": "code",
   "source": [
    "def safe_get(item, path, default=None):\n",
    "    \"\"\"Safely drill into nested dicts.\"\"\"\n",
    "    for key in path:\n",
    "        item = item.get(key, {})\n",
    "    return item or default"
   ],
   "id": "1ce3fe8b88b05971",
   "outputs": [],
   "execution_count": 20
  },
  {
   "metadata": {
    "ExecuteTime": {
     "end_time": "2025-07-04T17:45:15.436397Z",
     "start_time": "2025-07-04T17:45:15.428622Z"
    }
   },
   "cell_type": "code",
   "source": [
    "def build_service():\n",
    "    # https://googleapis.github.io/google-api-python-client/docs/epy/googleapiclient.discovery-module.html#build\n",
    "    # build(serviceName, version, developerKey=None, cache_discovery=True)\n",
    "    #\n",
    "    # serviceName: string, name of the service.\n",
    "    # The serviceName and version are the names from the Discovery service.\n",
    "    #\n",
    "    # cache_discovery: Boolean, whether or not to cache the discovery doc.\n",
    "    #\n",
    "\n",
    "    return build(\"youtube\", \"v3\", developerKey=API_KEY, cache_discovery=False)"
   ],
   "id": "158fa7d97464c615",
   "outputs": [],
   "execution_count": 21
  },
  {
   "metadata": {
    "ExecuteTime": {
     "end_time": "2025-07-04T17:45:15.471035Z",
     "start_time": "2025-07-04T17:45:15.462090Z"
    }
   },
   "cell_type": "code",
   "source": [
    "def get_uploads_playlist_id(youtube, channel_id):\n",
    "    \"\"\"Step 1: one cheap call → uploads playlistId.\"\"\"\n",
    "    resp = youtube.channels().list(\n",
    "        part=\"contentDetails\",\n",
    "        id=channel_id,\n",
    "        maxResults=1\n",
    "    ).execute()\n",
    "    try:\n",
    "        return resp[\"items\"][0][\"contentDetails\"][\"relatedPlaylists\"][\"uploads\"]\n",
    "    except (KeyError, IndexError):\n",
    "        raise ValueError(\"Channel ID not found or no public uploads.\")"
   ],
   "id": "c6a57ccd2a998663",
   "outputs": [],
   "execution_count": 22
  },
  {
   "metadata": {
    "ExecuteTime": {
     "end_time": "2025-07-04T17:45:15.514765Z",
     "start_time": "2025-07-04T17:45:15.501598Z"
    }
   },
   "cell_type": "code",
   "source": [
    "def get_all_video_ids(youtube, uploads_playlist_id):\n",
    "    \"\"\"Step 2: page through playlistItems; collect videoIds.\"\"\"\n",
    "    video_ids = []\n",
    "    next_page = None\n",
    "    pbar = tqdm(desc=\"Fetching playlist pages\", unit=\"page\")\n",
    "    while True:\n",
    "        resp = youtube.playlistItems().list(\n",
    "            part=\"contentDetails\",\n",
    "            playlistId=uploads_playlist_id,\n",
    "            maxResults=50,      # API max\n",
    "            pageToken=next_page\n",
    "        ).execute()\n",
    "        ids = [item[\"contentDetails\"][\"videoId\"] for item in resp[\"items\"]]\n",
    "        video_ids.extend(ids)\n",
    "        pbar.update(1)\n",
    "        next_page = resp.get(\"nextPageToken\")\n",
    "        if not next_page:\n",
    "            break\n",
    "    pbar.close()\n",
    "    return video_ids"
   ],
   "id": "7a0ab04d1a496882",
   "outputs": [],
   "execution_count": 23
  },
  {
   "metadata": {
    "ExecuteTime": {
     "end_time": "2025-07-04T17:45:15.547680Z",
     "start_time": "2025-07-04T17:45:15.537335Z"
    }
   },
   "cell_type": "code",
   "source": [
    "def fetch_video_metadata(youtube, video_ids):\n",
    "    \"\"\"Step 3: batch-fetch videos.list in groups of ≤50 ids.\"\"\"\n",
    "    rows = []\n",
    "    for batch in tqdm(list(chunks(video_ids, 50)), desc=\"Downloading metadata\", unit=\"batch\"):\n",
    "        resp = youtube.videos().list(\n",
    "            part=\"snippet,statistics,contentDetails\",\n",
    "            id=\",\".join(batch),\n",
    "            maxResults=50\n",
    "        ).execute()\n",
    "        for v in resp[\"items\"]:\n",
    "            sni, stats, cd = v[\"snippet\"], v[\"statistics\"], v[\"contentDetails\"]\n",
    "            rows.append({\n",
    "                \"video_id\"      : v[\"id\"],\n",
    "                \"title\"         : sni.get(\"title\"),\n",
    "                \"published_at\"  : sni.get(\"publishedAt\"),\n",
    "                \"description\"   : sni.get(\"description\"),\n",
    "                \"duration_ISO\"  : cd.get(\"duration\"),       # e.g. PT13M20S\n",
    "                \"tags\"          : \"|\".join(sni.get(\"tags\", [])),\n",
    "                \"view_count\"    : int(stats.get(\"viewCount\", 0)),\n",
    "                \"like_count\"    : int(stats.get(\"likeCount\", 0)),\n",
    "                \"comment_count\" : int(stats.get(\"commentCount\", 0)),\n",
    "                \"favorite_count\": int(stats.get(\"favoriteCount\", 0)),\n",
    "                \"channel_title\" : sni.get(\"channelTitle\")\n",
    "            })\n",
    "        # polite pause – keeps you well below quota & QPS limits\n",
    "        time.sleep(0.1)\n",
    "    return pd.DataFrame(rows)"
   ],
   "id": "3e22b81f02c89c64",
   "outputs": [],
   "execution_count": 24
  },
  {
   "metadata": {},
   "cell_type": "code",
   "outputs": [],
   "execution_count": null,
   "source": [
    "def df_to_azure_sql(df):\n",
    "    \"\"\"\n",
    "    Write/append the dataframe into dbo.youtube_videos (Azure SQL DB)\n",
    "    \"\"\"\n",
    "    import os\n",
    "    from dotenv import load_dotenv\n",
    "    load_dotenv()\n",
    "\n",
    "    drv = \"ODBC Driver 18 for SQL Server\"            # keep spaces!\n",
    "    odbc_str = (\n",
    "        f\"Driver={drv};Server=tcp:{os.getenv('AZSQL_SERVER')},1433;\"\n",
    "        f\"Database={os.getenv('AZSQL_DATABASE')};\"\n",
    "        f\"Uid={os.getenv('AZSQL_USERNAME')};\"\n",
    "        f\"Pwd={os.getenv('AZSQL_PASSWORD')};\"\n",
    "        \"Encrypt=yes;TrustServerCertificate=no;Connection Timeout=30;\"\n",
    "    )\n",
    "\n",
    "    # SQLAlchemy-style URL.  Space → + ;  parentheses → %28 %29, etc.\n",
    "    params = quote_plus(odbc_str)\n",
    "    engine = create_engine(\n",
    "        f\"mssql+pyodbc:///?odbc_connect={params}\",\n",
    "        fast_executemany=True        # batches rows under the hood\n",
    "    )\n",
    "\n",
    "    # —— upsert strategy: try append-only, let PK skip duplicates\n",
    "    with engine.begin() as cn:\n",
    "        df.to_sql(\n",
    "            name=\"youtube_videos\",\n",
    "            con=cn,\n",
    "            schema=\"dbo\",\n",
    "            if_exists=\"append\",       # create once, then append\n",
    "            index=False,\n",
    "            chunksize=1000,           # good balance of  network / TX\n",
    "            method=\"multi\"            # uses “INSERT … VALUES … , (…), …”\n",
    "        )\n",
    "\n",
    "# ------- replace the old CSV export line with:\n",
    "df_to_azure_sql(df)\n",
    "print(\"Data pushed to Azure SQL 🎉\")"
   ],
   "id": "950754d9f4f70aad"
  },
  {
   "metadata": {
    "ExecuteTime": {
     "end_time": "2025-07-04T17:45:15.588232Z",
     "start_time": "2025-07-04T17:45:15.579666Z"
    }
   },
   "cell_type": "code",
   "source": [
    "def main(channel_id):\n",
    "    #\n",
    "    youtube = build_service()\n",
    "    uploads_id = get_uploads_playlist_id(youtube, channel_id)\n",
    "    print(f\"Uploads playlist ID: {uploads_id}\")\n",
    "    ids = get_all_video_ids(youtube, uploads_id)\n",
    "    print(f\"Total videos: {len(ids):,}\")\n",
    "    df = fetch_video_metadata(youtube, ids)\n",
    "    outfile = Path(f\"{channel_id}_videos.csv\")\n",
    "    df.to_csv(outfile, index=False)\n",
    "    print(f\"Saved → {outfile.resolve()}\")"
   ],
   "id": "c2796289b45b0900",
   "outputs": [],
   "execution_count": 25
  },
  {
   "metadata": {
    "ExecuteTime": {
     "end_time": "2025-07-04T17:45:15.626607Z",
     "start_time": "2025-07-04T17:45:15.619197Z"
    }
   },
   "cell_type": "code",
   "source": [
    "\n",
    "if __name__ == \"__main__\" and 1==0:\n",
    "    if len(sys.argv) != 2:\n",
    "        raise SystemExit(f\"Usage: python fetch_channel_videos.py <CHANNEL_ID>\")\n",
    "    main(sys.argv[1])"
   ],
   "id": "340aa9c35fd15f28",
   "outputs": [],
   "execution_count": 26
  },
  {
   "metadata": {
    "ExecuteTime": {
     "end_time": "2025-07-04T17:46:12.209685Z",
     "start_time": "2025-07-04T17:46:12.203320Z"
    }
   },
   "cell_type": "code",
   "source": [
    "CHANNEL_ID=os.getenv(\"VAUSH_CHANNEL_ID\")\n",
    "print(CHANNEL_ID)"
   ],
   "id": "54e4d1ff59e794bf",
   "outputs": [
    {
     "name": "stdout",
     "output_type": "stream",
     "text": [
      "UC1E-JS8L0j1Ei70D9VEFrPQ\n"
     ]
    }
   ],
   "execution_count": 30
  },
  {
   "metadata": {
    "ExecuteTime": {
     "end_time": "2025-07-04T17:47:26.712687Z",
     "start_time": "2025-07-04T17:46:55.496399Z"
    }
   },
   "cell_type": "code",
   "source": [
    "\n",
    "main(CHANNEL_ID)"
   ],
   "id": "dfedf986d9aeb12",
   "outputs": [
    {
     "name": "stdout",
     "output_type": "stream",
     "text": [
      "Uploads playlist ID: UU1E-JS8L0j1Ei70D9VEFrPQ\n"
     ]
    },
    {
     "name": "stderr",
     "output_type": "stream",
     "text": [
      "Fetching playlist pages: 62page [00:10,  6.17page/s]\n"
     ]
    },
    {
     "name": "stdout",
     "output_type": "stream",
     "text": [
      "Total videos: 3,090\n"
     ]
    },
    {
     "name": "stderr",
     "output_type": "stream",
     "text": [
      "Downloading metadata: 100%|██████████| 62/62 [00:20<00:00,  3.02batch/s]"
     ]
    },
    {
     "name": "stdout",
     "output_type": "stream",
     "text": [
      "Saved → C:\\Users\\vboxuser\\PycharmProjects\\Youtube_Scraping\\apps\\UC1E-JS8L0j1Ei70D9VEFrPQ_videos.csv\n"
     ]
    },
    {
     "name": "stderr",
     "output_type": "stream",
     "text": [
      "\n"
     ]
    }
   ],
   "execution_count": 32
  },
  {
   "metadata": {},
   "cell_type": "code",
   "outputs": [],
   "execution_count": null,
   "source": "",
   "id": "691043ac1b0b45a0"
  }
 ],
 "metadata": {
  "kernelspec": {
   "display_name": "Python 3",
   "language": "python",
   "name": "python3"
  },
  "language_info": {
   "codemirror_mode": {
    "name": "ipython",
    "version": 2
   },
   "file_extension": ".py",
   "mimetype": "text/x-python",
   "name": "python",
   "nbconvert_exporter": "python",
   "pygments_lexer": "ipython2",
   "version": "2.7.6"
  }
 },
 "nbformat": 4,
 "nbformat_minor": 5
}
