{
 "cells": [
  {
   "cell_type": "code",
   "id": "initial_id",
   "metadata": {
    "collapsed": true,
    "ExecuteTime": {
     "end_time": "2025-07-04T15:18:51.161070Z",
     "start_time": "2025-07-04T15:18:51.151066Z"
    }
   },
   "source": [
    "\"\"\"\n",
    "Download every public video from ONE YouTube channel → CSV.\n",
    "\n",
    "Save this as fetch_channel_videos.py\n",
    "Run with:  python fetch_channel_videos.py  UCxxxxxxxxxxxxxxxxxxxx\n",
    "\"\"\""
   ],
   "outputs": [
    {
     "data": {
      "text/plain": [
       "'\\nDownload every public video from ONE YouTube channel → CSV.\\n\\nSave this as fetch_channel_videos.py\\nRun with:  python fetch_channel_videos.py  UCxxxxxxxxxxxxxxxxxxxx\\n'"
      ]
     },
     "execution_count": 1,
     "metadata": {},
     "output_type": "execute_result"
    }
   ],
   "execution_count": 1
  },
  {
   "metadata": {
    "ExecuteTime": {
     "end_time": "2025-07-04T15:18:52.146697Z",
     "start_time": "2025-07-04T15:18:51.394355Z"
    }
   },
   "cell_type": "code",
   "source": [
    "import os, sys, time, math, itertools, json\n",
    "from pathlib import Path\n",
    "import pandas as pd\n",
    "from googleapiclient.discovery import build\n",
    "from tqdm import tqdm   # progress bar"
   ],
   "id": "35a80a92d92fe2a7",
   "outputs": [],
   "execution_count": 2
  },
  {
   "metadata": {
    "ExecuteTime": {
     "end_time": "2025-07-04T15:18:52.166584Z",
     "start_time": "2025-07-04T15:18:52.162391Z"
    }
   },
   "cell_type": "code",
   "source": "print(os.getenv(\"YOUTUBE_API_KEY\") )",
   "id": "f5d4cadded09ac7f",
   "outputs": [
    {
     "name": "stdout",
     "output_type": "stream",
     "text": [
      "None\n"
     ]
    }
   ],
   "execution_count": 3
  },
  {
   "metadata": {
    "ExecuteTime": {
     "end_time": "2025-07-04T15:18:52.556684Z",
     "start_time": "2025-07-04T15:18:52.230354Z"
    }
   },
   "cell_type": "code",
   "source": [
    "API_KEY = os.getenv(\"YOUTUBE_API_KEY\")          # export beforehand or load via dotenv\n",
    "if not API_KEY:\n",
    "    raise SystemExit(\"Set YOUTUBE_API_KEY environment variable first!\")"
   ],
   "id": "4363f0c04d5152d0",
   "outputs": [
    {
     "ename": "SystemExit",
     "evalue": "Set YOUTUBE_API_KEY environment variable first!",
     "output_type": "error",
     "traceback": [
      "An exception has occurred, use %tb to see the full traceback.\n",
      "\u001B[31mSystemExit\u001B[39m\u001B[31m:\u001B[39m Set YOUTUBE_API_KEY environment variable first!\n"
     ]
    },
    {
     "name": "stderr",
     "output_type": "stream",
     "text": [
      "C:\\Users\\vboxuser\\PycharmProjects\\Youtube_Scraping\\.venv\\Lib\\site-packages\\IPython\\core\\interactiveshell.py:3680: UserWarning: To exit: use 'exit', 'quit', or Ctrl-D.\n",
      "  warn(\"To exit: use 'exit', 'quit', or Ctrl-D.\", stacklevel=1)\n"
     ]
    }
   ],
   "execution_count": 4
  },
  {
   "metadata": {},
   "cell_type": "code",
   "execution_count": null,
   "source": [
    "def chunks(seq, n):\n",
    "    \"\"\"Yield successive n-sized chunks from seq (used for video-id batching).\"\"\"\n",
    "    for i in range(0, len(seq), n):\n",
    "        yield seq[i:i + n]"
   ],
   "id": "65886f974c2a75d3",
   "outputs": []
  },
  {
   "metadata": {},
   "cell_type": "code",
   "outputs": [],
   "execution_count": null,
   "source": [
    "def safe_get(item, path, default=None):\n",
    "    \"\"\"Safely drill into nested dicts.\"\"\"\n",
    "    for key in path:\n",
    "        item = item.get(key, {})\n",
    "    return item or default"
   ],
   "id": "1ce3fe8b88b05971"
  },
  {
   "metadata": {},
   "cell_type": "code",
   "outputs": [],
   "execution_count": null,
   "source": [
    "def build_service():\n",
    "    return build(\"youtube\", \"v3\", developerKey=API_KEY, cache_discovery=False)"
   ],
   "id": "158fa7d97464c615"
  },
  {
   "metadata": {},
   "cell_type": "code",
   "outputs": [],
   "execution_count": null,
   "source": [
    "def get_uploads_playlist_id(youtube, channel_id):\n",
    "    \"\"\"Step 1: one cheap call → uploads playlistId.\"\"\"\n",
    "    resp = youtube.channels().list(\n",
    "        part=\"contentDetails\",\n",
    "        id=channel_id,\n",
    "        maxResults=1\n",
    "    ).execute()\n",
    "    try:\n",
    "        return resp[\"items\"][0][\"contentDetails\"][\"relatedPlaylists\"][\"uploads\"]\n",
    "    except (KeyError, IndexError):\n",
    "        raise ValueError(\"Channel ID not found or no public uploads.\")"
   ],
   "id": "c6a57ccd2a998663"
  },
  {
   "metadata": {},
   "cell_type": "code",
   "outputs": [],
   "execution_count": null,
   "source": [
    "def get_all_video_ids(youtube, uploads_playlist_id):\n",
    "    \"\"\"Step 2: page through playlistItems; collect videoIds.\"\"\"\n",
    "    video_ids = []\n",
    "    next_page = None\n",
    "    pbar = tqdm(desc=\"Fetching playlist pages\", unit=\"page\")\n",
    "    while True:\n",
    "        resp = youtube.playlistItems().list(\n",
    "            part=\"contentDetails\",\n",
    "            playlistId=uploads_playlist_id,\n",
    "            maxResults=50,      # API max\n",
    "            pageToken=next_page\n",
    "        ).execute()\n",
    "        ids = [item[\"contentDetails\"][\"videoId\"] for item in resp[\"items\"]]\n",
    "        video_ids.extend(ids)\n",
    "        pbar.update(1)\n",
    "        next_page = resp.get(\"nextPageToken\")\n",
    "        if not next_page:\n",
    "            break\n",
    "    pbar.close()\n",
    "    return video_ids"
   ],
   "id": "7a0ab04d1a496882"
  },
  {
   "metadata": {},
   "cell_type": "code",
   "outputs": [],
   "execution_count": null,
   "source": [
    "def fetch_video_metadata(youtube, video_ids):\n",
    "    \"\"\"Step 3: batch-fetch videos.list in groups of ≤50 ids.\"\"\"\n",
    "    rows = []\n",
    "    for batch in tqdm(list(chunks(video_ids, 50)), desc=\"Downloading metadata\", unit=\"batch\"):\n",
    "        resp = youtube.videos().list(\n",
    "            part=\"snippet,statistics,contentDetails\",\n",
    "            id=\",\".join(batch),\n",
    "            maxResults=50\n",
    "        ).execute()\n",
    "        for v in resp[\"items\"]:\n",
    "            sni, stats, cd = v[\"snippet\"], v[\"statistics\"], v[\"contentDetails\"]\n",
    "            rows.append({\n",
    "                \"video_id\"      : v[\"id\"],\n",
    "                \"title\"         : sni.get(\"title\"),\n",
    "                \"published_at\"  : sni.get(\"publishedAt\"),\n",
    "                \"description\"   : sni.get(\"description\"),\n",
    "                \"duration_ISO\"  : cd.get(\"duration\"),       # e.g. PT13M20S\n",
    "                \"tags\"          : \"|\".join(sni.get(\"tags\", [])),\n",
    "                \"view_count\"    : int(stats.get(\"viewCount\", 0)),\n",
    "                \"like_count\"    : int(stats.get(\"likeCount\", 0)),\n",
    "                \"comment_count\" : int(stats.get(\"commentCount\", 0)),\n",
    "                \"favorite_count\": int(stats.get(\"favoriteCount\", 0)),\n",
    "                \"channel_title\" : sni.get(\"channelTitle\")\n",
    "            })\n",
    "        # polite pause – keeps you well below quota & QPS limits\n",
    "        time.sleep(0.1)\n",
    "    return pd.DataFrame(rows)"
   ],
   "id": "3e22b81f02c89c64"
  },
  {
   "metadata": {},
   "cell_type": "code",
   "outputs": [],
   "execution_count": null,
   "source": [
    "def main(channel_id):\n",
    "    youtube = build_service()\n",
    "    uploads_id = get_uploads_playlist_id(youtube, channel_id)\n",
    "    print(f\"Uploads playlist ID: {uploads_id}\")\n",
    "    ids = get_all_video_ids(youtube, uploads_id)\n",
    "    print(f\"Total videos: {len(ids):,}\")\n",
    "    df = fetch_video_metadata(youtube, ids)\n",
    "    outfile = Path(f\"{channel_id}_videos.csv\")\n",
    "    df.to_csv(outfile, index=False)\n",
    "    print(f\"Saved → {outfile.resolve()}\")"
   ],
   "id": "c2796289b45b0900"
  },
  {
   "metadata": {},
   "cell_type": "code",
   "outputs": [],
   "execution_count": null,
   "source": [
    "\n",
    "if __name__ == \"__main__\":\n",
    "    if len(sys.argv) != 2:\n",
    "        raise SystemExit(\"Usage: python fetch_channel_videos.py <CHANNEL_ID>\")\n",
    "    main(sys.argv[1])"
   ],
   "id": "340aa9c35fd15f28"
  }
 ],
 "metadata": {
  "kernelspec": {
   "display_name": "Python 3",
   "language": "python",
   "name": "python3"
  },
  "language_info": {
   "codemirror_mode": {
    "name": "ipython",
    "version": 2
   },
   "file_extension": ".py",
   "mimetype": "text/x-python",
   "name": "python",
   "nbconvert_exporter": "python",
   "pygments_lexer": "ipython2",
   "version": "2.7.6"
  }
 },
 "nbformat": 4,
 "nbformat_minor": 5
}
