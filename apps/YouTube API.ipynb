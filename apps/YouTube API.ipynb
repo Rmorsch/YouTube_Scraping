{
 "cells": [
  {
   "cell_type": "code",
   "id": "initial_id",
   "metadata": {
    "collapsed": true,
    "ExecuteTime": {
     "end_time": "2025-06-21T15:47:25.662580Z",
     "start_time": "2025-06-21T15:47:25.641776Z"
    }
   },
   "source": [
    "\"\"\"\n",
    "Download every public video from ONE YouTube channel → CSV.\n",
    "\n",
    "Save this as fetch_channel_videos.py\n",
    "Run with:  python fetch_channel_videos.py  UCxxxxxxxxxxxxxxxxxxxx\n",
    "\"\"\""
   ],
   "outputs": [
    {
     "data": {
      "text/plain": [
       "'\\nDownload every public video from ONE YouTube channel → CSV.\\n\\nSave this as fetch_channel_videos.py\\nRun with:  python fetch_channel_videos.py  UCxxxxxxxxxxxxxxxxxxxx\\n'"
      ]
     },
     "execution_count": 1,
     "metadata": {},
     "output_type": "execute_result"
    }
   ],
   "execution_count": 1
  },
  {
   "metadata": {
    "ExecuteTime": {
     "end_time": "2025-06-21T16:21:15.286747Z",
     "start_time": "2025-06-21T16:21:13.630835Z"
    }
   },
   "cell_type": "code",
   "source": [
    "import os, sys, time, math, itertools, json\n",
    "from pathlib import Path\n",
    "import pandas as pd\n",
    "from googleapiclient.discovery import build\n",
    "from tqdm import tqdm   # progress bar"
   ],
   "id": "35a80a92d92fe2a7",
   "outputs": [],
   "execution_count": 3
  },
  {
   "metadata": {},
   "cell_type": "code",
   "outputs": [],
   "execution_count": null,
   "source": [
    "API_KEY = os.getenv(\"YOUTUBE_API_KEY\")          # export beforehand or load via dotenv\n",
    "if not API_KEY:\n",
    "    raise SystemExit(\"Set YOUTUBE_API_KEY environment variable first!\")"
   ],
   "id": "4363f0c04d5152d0"
  },
  {
   "metadata": {},
   "cell_type": "code",
   "outputs": [],
   "execution_count": null,
   "source": "",
   "id": "340aa9c35fd15f28"
  },
  {
   "metadata": {},
   "cell_type": "code",
   "outputs": [],
   "execution_count": null,
   "source": "",
   "id": "d3f71a7ffc91d365"
  },
  {
   "metadata": {},
   "cell_type": "code",
   "outputs": [],
   "execution_count": null,
   "source": "",
   "id": "6c54c85d0e944935"
  },
  {
   "metadata": {},
   "cell_type": "code",
   "outputs": [],
   "execution_count": null,
   "source": "",
   "id": "8e0b22e34762da2f"
  },
  {
   "metadata": {},
   "cell_type": "code",
   "outputs": [],
   "execution_count": null,
   "source": "",
   "id": "23113c75b45f26d2"
  }
 ],
 "metadata": {
  "kernelspec": {
   "display_name": "Python 3",
   "language": "python",
   "name": "python3"
  },
  "language_info": {
   "codemirror_mode": {
    "name": "ipython",
    "version": 2
   },
   "file_extension": ".py",
   "mimetype": "text/x-python",
   "name": "python",
   "nbconvert_exporter": "python",
   "pygments_lexer": "ipython2",
   "version": "2.7.6"
  }
 },
 "nbformat": 4,
 "nbformat_minor": 5
}
